{
 "cells": [
  {
   "cell_type": "code",
   "execution_count": 1,
   "id": "1ed3501e",
   "metadata": {},
   "outputs": [
    {
     "name": "stdout",
     "output_type": "stream",
     "text": [
      "Requirement already satisfied: wordcloud in c:\\users\\ghaffarina\\appdata\\local\\programs\\python\\python39\\lib\\site-packages (1.8.2.2)\n",
      "Requirement already satisfied: numpy>=1.6.1 in c:\\users\\ghaffarina\\appdata\\local\\programs\\python\\python39\\lib\\site-packages (from wordcloud) (1.23.3)\n",
      "Requirement already satisfied: matplotlib in c:\\users\\ghaffarina\\appdata\\local\\programs\\python\\python39\\lib\\site-packages (from wordcloud) (3.6.0)\n",
      "Requirement already satisfied: pillow in c:\\users\\ghaffarina\\appdata\\local\\programs\\python\\python39\\lib\\site-packages (from wordcloud) (9.2.0)\n",
      "Requirement already satisfied: python-dateutil>=2.7 in c:\\users\\ghaffarina\\appdata\\local\\programs\\python\\python39\\lib\\site-packages (from matplotlib->wordcloud) (2.8.2)\n",
      "Requirement already satisfied: fonttools>=4.22.0 in c:\\users\\ghaffarina\\appdata\\local\\programs\\python\\python39\\lib\\site-packages (from matplotlib->wordcloud) (4.37.4)\n",
      "Requirement already satisfied: pyparsing>=2.2.1 in c:\\users\\ghaffarina\\appdata\\local\\programs\\python\\python39\\lib\\site-packages (from matplotlib->wordcloud) (3.0.9)\n",
      "Requirement already satisfied: contourpy>=1.0.1 in c:\\users\\ghaffarina\\appdata\\local\\programs\\python\\python39\\lib\\site-packages (from matplotlib->wordcloud) (1.0.5)\n",
      "Requirement already satisfied: cycler>=0.10 in c:\\users\\ghaffarina\\appdata\\local\\programs\\python\\python39\\lib\\site-packages (from matplotlib->wordcloud) (0.11.0)\n",
      "Requirement already satisfied: kiwisolver>=1.0.1 in c:\\users\\ghaffarina\\appdata\\local\\programs\\python\\python39\\lib\\site-packages (from matplotlib->wordcloud) (1.4.4)\n",
      "Requirement already satisfied: packaging>=20.0 in c:\\users\\ghaffarina\\appdata\\local\\programs\\python\\python39\\lib\\site-packages (from matplotlib->wordcloud) (21.3)\n",
      "Requirement already satisfied: six>=1.5 in c:\\users\\ghaffarina\\appdata\\local\\programs\\python\\python39\\lib\\site-packages (from python-dateutil>=2.7->matplotlib->wordcloud) (1.16.0)\n",
      "Requirement already satisfied: fileupload in c:\\users\\ghaffarina\\appdata\\local\\programs\\python\\python39\\lib\\site-packages (0.1.5)\n",
      "Requirement already satisfied: notebook>=4.2 in c:\\users\\ghaffarina\\appdata\\local\\programs\\python\\python39\\lib\\site-packages (from fileupload) (6.4.12)\n",
      "Requirement already satisfied: ipywidgets>=5.1 in c:\\users\\ghaffarina\\appdata\\local\\programs\\python\\python39\\lib\\site-packages (from fileupload) (8.0.2)\n",
      "Requirement already satisfied: traitlets>=4.2 in c:\\users\\ghaffarina\\appdata\\local\\programs\\python\\python39\\lib\\site-packages (from fileupload) (5.4.0)\n",
      "Requirement already satisfied: ipykernel>=4.5.1 in c:\\users\\ghaffarina\\appdata\\local\\programs\\python\\python39\\lib\\site-packages (from ipywidgets>=5.1->fileupload) (6.16.0)\n",
      "Requirement already satisfied: ipython>=6.1.0 in c:\\users\\ghaffarina\\appdata\\local\\programs\\python\\python39\\lib\\site-packages (from ipywidgets>=5.1->fileupload) (8.5.0)\n",
      "Requirement already satisfied: jupyterlab-widgets~=3.0 in c:\\users\\ghaffarina\\appdata\\local\\programs\\python\\python39\\lib\\site-packages (from ipywidgets>=5.1->fileupload) (3.0.3)\n",
      "Requirement already satisfied: widgetsnbextension~=4.0 in c:\\users\\ghaffarina\\appdata\\local\\programs\\python\\python39\\lib\\site-packages (from ipywidgets>=5.1->fileupload) (4.0.3)\n",
      "Requirement already satisfied: argon2-cffi in c:\\users\\ghaffarina\\appdata\\local\\programs\\python\\python39\\lib\\site-packages (from notebook>=4.2->fileupload) (21.3.0)\n",
      "Requirement already satisfied: terminado>=0.8.3 in c:\\users\\ghaffarina\\appdata\\local\\programs\\python\\python39\\lib\\site-packages (from notebook>=4.2->fileupload) (0.16.0)\n",
      "Requirement already satisfied: Send2Trash>=1.8.0 in c:\\users\\ghaffarina\\appdata\\local\\programs\\python\\python39\\lib\\site-packages (from notebook>=4.2->fileupload) (1.8.0)\n",
      "Requirement already satisfied: nest-asyncio>=1.5 in c:\\users\\ghaffarina\\appdata\\local\\programs\\python\\python39\\lib\\site-packages (from notebook>=4.2->fileupload) (1.5.5)\n",
      "Requirement already satisfied: prometheus-client in c:\\users\\ghaffarina\\appdata\\local\\programs\\python\\python39\\lib\\site-packages (from notebook>=4.2->fileupload) (0.14.1)\n",
      "Requirement already satisfied: jupyter-core>=4.6.1 in c:\\users\\ghaffarina\\appdata\\local\\programs\\python\\python39\\lib\\site-packages (from notebook>=4.2->fileupload) (4.11.1)\n",
      "Requirement already satisfied: ipython-genutils in c:\\users\\ghaffarina\\appdata\\local\\programs\\python\\python39\\lib\\site-packages (from notebook>=4.2->fileupload) (0.2.0)\n",
      "Requirement already satisfied: tornado>=6.1 in c:\\users\\ghaffarina\\appdata\\local\\programs\\python\\python39\\lib\\site-packages (from notebook>=4.2->fileupload) (6.2)\n",
      "Requirement already satisfied: nbconvert>=5 in c:\\users\\ghaffarina\\appdata\\local\\programs\\python\\python39\\lib\\site-packages (from notebook>=4.2->fileupload) (7.0.0)\n",
      "Requirement already satisfied: pyzmq>=17 in c:\\users\\ghaffarina\\appdata\\local\\programs\\python\\python39\\lib\\site-packages (from notebook>=4.2->fileupload) (24.0.1)\n",
      "Requirement already satisfied: jupyter-client>=5.3.4 in c:\\users\\ghaffarina\\appdata\\local\\programs\\python\\python39\\lib\\site-packages (from notebook>=4.2->fileupload) (7.3.5)\n",
      "Requirement already satisfied: jinja2 in c:\\users\\ghaffarina\\appdata\\local\\programs\\python\\python39\\lib\\site-packages (from notebook>=4.2->fileupload) (3.1.2)\n",
      "Requirement already satisfied: nbformat in c:\\users\\ghaffarina\\appdata\\local\\programs\\python\\python39\\lib\\site-packages (from notebook>=4.2->fileupload) (5.6.1)\n",
      "Requirement already satisfied: matplotlib-inline>=0.1 in c:\\users\\ghaffarina\\appdata\\local\\programs\\python\\python39\\lib\\site-packages (from ipykernel>=4.5.1->ipywidgets>=5.1->fileupload) (0.1.6)\n",
      "Requirement already satisfied: psutil in c:\\users\\ghaffarina\\appdata\\local\\programs\\python\\python39\\lib\\site-packages (from ipykernel>=4.5.1->ipywidgets>=5.1->fileupload) (5.9.2)\n",
      "Requirement already satisfied: debugpy>=1.0 in c:\\users\\ghaffarina\\appdata\\local\\programs\\python\\python39\\lib\\site-packages (from ipykernel>=4.5.1->ipywidgets>=5.1->fileupload) (1.6.3)\n",
      "Requirement already satisfied: packaging in c:\\users\\ghaffarina\\appdata\\local\\programs\\python\\python39\\lib\\site-packages (from ipykernel>=4.5.1->ipywidgets>=5.1->fileupload) (21.3)\n",
      "Requirement already satisfied: jedi>=0.16 in c:\\users\\ghaffarina\\appdata\\local\\programs\\python\\python39\\lib\\site-packages (from ipython>=6.1.0->ipywidgets>=5.1->fileupload) (0.18.1)\n",
      "Requirement already satisfied: pickleshare in c:\\users\\ghaffarina\\appdata\\local\\programs\\python\\python39\\lib\\site-packages (from ipython>=6.1.0->ipywidgets>=5.1->fileupload) (0.7.5)\n",
      "Requirement already satisfied: backcall in c:\\users\\ghaffarina\\appdata\\local\\programs\\python\\python39\\lib\\site-packages (from ipython>=6.1.0->ipywidgets>=5.1->fileupload) (0.2.0)\n",
      "Requirement already satisfied: decorator in c:\\users\\ghaffarina\\appdata\\local\\programs\\python\\python39\\lib\\site-packages (from ipython>=6.1.0->ipywidgets>=5.1->fileupload) (5.1.1)\n",
      "Requirement already satisfied: pygments>=2.4.0 in c:\\users\\ghaffarina\\appdata\\local\\programs\\python\\python39\\lib\\site-packages (from ipython>=6.1.0->ipywidgets>=5.1->fileupload) (2.13.0)\n",
      "Requirement already satisfied: prompt-toolkit<3.1.0,>3.0.1 in c:\\users\\ghaffarina\\appdata\\local\\programs\\python\\python39\\lib\\site-packages (from ipython>=6.1.0->ipywidgets>=5.1->fileupload) (3.0.31)\n",
      "Requirement already satisfied: colorama in c:\\users\\ghaffarina\\appdata\\local\\programs\\python\\python39\\lib\\site-packages (from ipython>=6.1.0->ipywidgets>=5.1->fileupload) (0.4.5)\n",
      "Requirement already satisfied: stack-data in c:\\users\\ghaffarina\\appdata\\local\\programs\\python\\python39\\lib\\site-packages (from ipython>=6.1.0->ipywidgets>=5.1->fileupload) (0.5.1)\n",
      "Requirement already satisfied: entrypoints in c:\\users\\ghaffarina\\appdata\\local\\programs\\python\\python39\\lib\\site-packages (from jupyter-client>=5.3.4->notebook>=4.2->fileupload) (0.4)\n",
      "Requirement already satisfied: python-dateutil>=2.8.2 in c:\\users\\ghaffarina\\appdata\\local\\programs\\python\\python39\\lib\\site-packages (from jupyter-client>=5.3.4->notebook>=4.2->fileupload) (2.8.2)\n",
      "Requirement already satisfied: pywin32>=1.0 in c:\\users\\ghaffarina\\appdata\\local\\programs\\python\\python39\\lib\\site-packages (from jupyter-core>=4.6.1->notebook>=4.2->fileupload) (304)\n",
      "Requirement already satisfied: jupyterlab-pygments in c:\\users\\ghaffarina\\appdata\\local\\programs\\python\\python39\\lib\\site-packages (from nbconvert>=5->notebook>=4.2->fileupload) (0.2.2)\n",
      "Requirement already satisfied: markupsafe>=2.0 in c:\\users\\ghaffarina\\appdata\\local\\programs\\python\\python39\\lib\\site-packages (from nbconvert>=5->notebook>=4.2->fileupload) (2.1.1)\n",
      "Requirement already satisfied: pandocfilters>=1.4.1 in c:\\users\\ghaffarina\\appdata\\local\\programs\\python\\python39\\lib\\site-packages (from nbconvert>=5->notebook>=4.2->fileupload) (1.5.0)\n",
      "Requirement already satisfied: lxml in c:\\users\\ghaffarina\\appdata\\local\\programs\\python\\python39\\lib\\site-packages (from nbconvert>=5->notebook>=4.2->fileupload) (4.9.1)\n",
      "Requirement already satisfied: beautifulsoup4 in c:\\users\\ghaffarina\\appdata\\local\\programs\\python\\python39\\lib\\site-packages (from nbconvert>=5->notebook>=4.2->fileupload) (4.11.1)\n",
      "Requirement already satisfied: nbclient>=0.5.0 in c:\\users\\ghaffarina\\appdata\\local\\programs\\python\\python39\\lib\\site-packages (from nbconvert>=5->notebook>=4.2->fileupload) (0.6.8)\n",
      "Requirement already satisfied: mistune<3,>=2.0.3 in c:\\users\\ghaffarina\\appdata\\local\\programs\\python\\python39\\lib\\site-packages (from nbconvert>=5->notebook>=4.2->fileupload) (2.0.4)\n",
      "Requirement already satisfied: tinycss2 in c:\\users\\ghaffarina\\appdata\\local\\programs\\python\\python39\\lib\\site-packages (from nbconvert>=5->notebook>=4.2->fileupload) (1.1.1)\n",
      "Requirement already satisfied: defusedxml in c:\\users\\ghaffarina\\appdata\\local\\programs\\python\\python39\\lib\\site-packages (from nbconvert>=5->notebook>=4.2->fileupload) (0.7.1)\n",
      "Requirement already satisfied: importlib-metadata>=3.6 in c:\\users\\ghaffarina\\appdata\\local\\programs\\python\\python39\\lib\\site-packages (from nbconvert>=5->notebook>=4.2->fileupload) (4.12.0)\n",
      "Requirement already satisfied: bleach in c:\\users\\ghaffarina\\appdata\\local\\programs\\python\\python39\\lib\\site-packages (from nbconvert>=5->notebook>=4.2->fileupload) (5.0.1)\n",
      "Requirement already satisfied: fastjsonschema in c:\\users\\ghaffarina\\appdata\\local\\programs\\python\\python39\\lib\\site-packages (from nbformat->notebook>=4.2->fileupload) (2.16.2)\n",
      "Requirement already satisfied: jsonschema>=2.6 in c:\\users\\ghaffarina\\appdata\\local\\programs\\python\\python39\\lib\\site-packages (from nbformat->notebook>=4.2->fileupload) (4.16.0)\n",
      "Requirement already satisfied: pywinpty>=1.1.0 in c:\\users\\ghaffarina\\appdata\\local\\programs\\python\\python39\\lib\\site-packages (from terminado>=0.8.3->notebook>=4.2->fileupload) (2.0.8)\n",
      "Requirement already satisfied: argon2-cffi-bindings in c:\\users\\ghaffarina\\appdata\\local\\programs\\python\\python39\\lib\\site-packages (from argon2-cffi->notebook>=4.2->fileupload) (21.2.0)\n",
      "Requirement already satisfied: zipp>=0.5 in c:\\users\\ghaffarina\\appdata\\local\\programs\\python\\python39\\lib\\site-packages (from importlib-metadata>=3.6->nbconvert>=5->notebook>=4.2->fileupload) (3.8.1)\n",
      "Requirement already satisfied: parso<0.9.0,>=0.8.0 in c:\\users\\ghaffarina\\appdata\\local\\programs\\python\\python39\\lib\\site-packages (from jedi>=0.16->ipython>=6.1.0->ipywidgets>=5.1->fileupload) (0.8.3)\n",
      "Requirement already satisfied: attrs>=17.4.0 in c:\\users\\ghaffarina\\appdata\\local\\programs\\python\\python39\\lib\\site-packages (from jsonschema>=2.6->nbformat->notebook>=4.2->fileupload) (22.1.0)\n",
      "Requirement already satisfied: pyrsistent!=0.17.0,!=0.17.1,!=0.17.2,>=0.14.0 in c:\\users\\ghaffarina\\appdata\\local\\programs\\python\\python39\\lib\\site-packages (from jsonschema>=2.6->nbformat->notebook>=4.2->fileupload) (0.18.1)\n",
      "Requirement already satisfied: wcwidth in c:\\users\\ghaffarina\\appdata\\local\\programs\\python\\python39\\lib\\site-packages (from prompt-toolkit<3.1.0,>3.0.1->ipython>=6.1.0->ipywidgets>=5.1->fileupload) (0.2.5)\n",
      "Requirement already satisfied: six>=1.5 in c:\\users\\ghaffarina\\appdata\\local\\programs\\python\\python39\\lib\\site-packages (from python-dateutil>=2.8.2->jupyter-client>=5.3.4->notebook>=4.2->fileupload) (1.16.0)\n",
      "Requirement already satisfied: cffi>=1.0.1 in c:\\users\\ghaffarina\\appdata\\local\\programs\\python\\python39\\lib\\site-packages (from argon2-cffi-bindings->argon2-cffi->notebook>=4.2->fileupload) (1.15.1)\n",
      "Requirement already satisfied: soupsieve>1.2 in c:\\users\\ghaffarina\\appdata\\local\\programs\\python\\python39\\lib\\site-packages (from beautifulsoup4->nbconvert>=5->notebook>=4.2->fileupload) (2.3.2.post1)\n",
      "Requirement already satisfied: webencodings in c:\\users\\ghaffarina\\appdata\\local\\programs\\python\\python39\\lib\\site-packages (from bleach->nbconvert>=5->notebook>=4.2->fileupload) (0.5.1)\n",
      "Requirement already satisfied: pyparsing!=3.0.5,>=2.0.2 in c:\\users\\ghaffarina\\appdata\\local\\programs\\python\\python39\\lib\\site-packages (from packaging->ipykernel>=4.5.1->ipywidgets>=5.1->fileupload) (3.0.9)\n",
      "Requirement already satisfied: executing in c:\\users\\ghaffarina\\appdata\\local\\programs\\python\\python39\\lib\\site-packages (from stack-data->ipython>=6.1.0->ipywidgets>=5.1->fileupload) (1.1.0)\n",
      "Requirement already satisfied: asttokens in c:\\users\\ghaffarina\\appdata\\local\\programs\\python\\python39\\lib\\site-packages (from stack-data->ipython>=6.1.0->ipywidgets>=5.1->fileupload) (2.0.8)\n",
      "Requirement already satisfied: pure-eval in c:\\users\\ghaffarina\\appdata\\local\\programs\\python\\python39\\lib\\site-packages (from stack-data->ipython>=6.1.0->ipywidgets>=5.1->fileupload) (0.2.2)\n",
      "Requirement already satisfied: pycparser in c:\\users\\ghaffarina\\appdata\\local\\programs\\python\\python39\\lib\\site-packages (from cffi>=1.0.1->argon2-cffi-bindings->argon2-cffi->notebook>=4.2->fileupload) (2.21)\n"
     ]
    },
    {
     "name": "stdout",
     "output_type": "stream",
     "text": [
      "Requirement already satisfied: ipywidgets in c:\\users\\ghaffarina\\appdata\\local\\programs\\python\\python39\\lib\\site-packages (8.0.2)\n",
      "Requirement already satisfied: jupyterlab-widgets~=3.0 in c:\\users\\ghaffarina\\appdata\\local\\programs\\python\\python39\\lib\\site-packages (from ipywidgets) (3.0.3)\n",
      "Requirement already satisfied: ipython>=6.1.0 in c:\\users\\ghaffarina\\appdata\\local\\programs\\python\\python39\\lib\\site-packages (from ipywidgets) (8.5.0)\n",
      "Requirement already satisfied: ipykernel>=4.5.1 in c:\\users\\ghaffarina\\appdata\\local\\programs\\python\\python39\\lib\\site-packages (from ipywidgets) (6.16.0)\n",
      "Requirement already satisfied: traitlets>=4.3.1 in c:\\users\\ghaffarina\\appdata\\local\\programs\\python\\python39\\lib\\site-packages (from ipywidgets) (5.4.0)\n",
      "Requirement already satisfied: widgetsnbextension~=4.0 in c:\\users\\ghaffarina\\appdata\\local\\programs\\python\\python39\\lib\\site-packages (from ipywidgets) (4.0.3)\n",
      "Requirement already satisfied: matplotlib-inline>=0.1 in c:\\users\\ghaffarina\\appdata\\local\\programs\\python\\python39\\lib\\site-packages (from ipykernel>=4.5.1->ipywidgets) (0.1.6)\n",
      "Requirement already satisfied: tornado>=6.1 in c:\\users\\ghaffarina\\appdata\\local\\programs\\python\\python39\\lib\\site-packages (from ipykernel>=4.5.1->ipywidgets) (6.2)\n",
      "Requirement already satisfied: packaging in c:\\users\\ghaffarina\\appdata\\local\\programs\\python\\python39\\lib\\site-packages (from ipykernel>=4.5.1->ipywidgets) (21.3)\n",
      "Requirement already satisfied: jupyter-client>=6.1.12 in c:\\users\\ghaffarina\\appdata\\local\\programs\\python\\python39\\lib\\site-packages (from ipykernel>=4.5.1->ipywidgets) (7.3.5)\n",
      "Requirement already satisfied: nest-asyncio in c:\\users\\ghaffarina\\appdata\\local\\programs\\python\\python39\\lib\\site-packages (from ipykernel>=4.5.1->ipywidgets) (1.5.5)\n",
      "Requirement already satisfied: psutil in c:\\users\\ghaffarina\\appdata\\local\\programs\\python\\python39\\lib\\site-packages (from ipykernel>=4.5.1->ipywidgets) (5.9.2)\n",
      "Requirement already satisfied: debugpy>=1.0 in c:\\users\\ghaffarina\\appdata\\local\\programs\\python\\python39\\lib\\site-packages (from ipykernel>=4.5.1->ipywidgets) (1.6.3)\n",
      "Requirement already satisfied: pyzmq>=17 in c:\\users\\ghaffarina\\appdata\\local\\programs\\python\\python39\\lib\\site-packages (from ipykernel>=4.5.1->ipywidgets) (24.0.1)\n",
      "Requirement already satisfied: pickleshare in c:\\users\\ghaffarina\\appdata\\local\\programs\\python\\python39\\lib\\site-packages (from ipython>=6.1.0->ipywidgets) (0.7.5)\n",
      "Requirement already satisfied: pygments>=2.4.0 in c:\\users\\ghaffarina\\appdata\\local\\programs\\python\\python39\\lib\\site-packages (from ipython>=6.1.0->ipywidgets) (2.13.0)\n",
      "Requirement already satisfied: jedi>=0.16 in c:\\users\\ghaffarina\\appdata\\local\\programs\\python\\python39\\lib\\site-packages (from ipython>=6.1.0->ipywidgets) (0.18.1)\n",
      "Requirement already satisfied: colorama in c:\\users\\ghaffarina\\appdata\\local\\programs\\python\\python39\\lib\\site-packages (from ipython>=6.1.0->ipywidgets) (0.4.5)\n",
      "Requirement already satisfied: decorator in c:\\users\\ghaffarina\\appdata\\local\\programs\\python\\python39\\lib\\site-packages (from ipython>=6.1.0->ipywidgets) (5.1.1)\n",
      "Requirement already satisfied: backcall in c:\\users\\ghaffarina\\appdata\\local\\programs\\python\\python39\\lib\\site-packages (from ipython>=6.1.0->ipywidgets) (0.2.0)\n",
      "Requirement already satisfied: prompt-toolkit<3.1.0,>3.0.1 in c:\\users\\ghaffarina\\appdata\\local\\programs\\python\\python39\\lib\\site-packages (from ipython>=6.1.0->ipywidgets) (3.0.31)\n",
      "Requirement already satisfied: stack-data in c:\\users\\ghaffarina\\appdata\\local\\programs\\python\\python39\\lib\\site-packages (from ipython>=6.1.0->ipywidgets) (0.5.1)\n",
      "Requirement already satisfied: parso<0.9.0,>=0.8.0 in c:\\users\\ghaffarina\\appdata\\local\\programs\\python\\python39\\lib\\site-packages (from jedi>=0.16->ipython>=6.1.0->ipywidgets) (0.8.3)\n",
      "Requirement already satisfied: python-dateutil>=2.8.2 in c:\\users\\ghaffarina\\appdata\\local\\programs\\python\\python39\\lib\\site-packages (from jupyter-client>=6.1.12->ipykernel>=4.5.1->ipywidgets) (2.8.2)\n",
      "Requirement already satisfied: jupyter-core>=4.9.2 in c:\\users\\ghaffarina\\appdata\\local\\programs\\python\\python39\\lib\\site-packages (from jupyter-client>=6.1.12->ipykernel>=4.5.1->ipywidgets) (4.11.1)\n",
      "Requirement already satisfied: entrypoints in c:\\users\\ghaffarina\\appdata\\local\\programs\\python\\python39\\lib\\site-packages (from jupyter-client>=6.1.12->ipykernel>=4.5.1->ipywidgets) (0.4)\n",
      "Requirement already satisfied: wcwidth in c:\\users\\ghaffarina\\appdata\\local\\programs\\python\\python39\\lib\\site-packages (from prompt-toolkit<3.1.0,>3.0.1->ipython>=6.1.0->ipywidgets) (0.2.5)\n",
      "Requirement already satisfied: pyparsing!=3.0.5,>=2.0.2 in c:\\users\\ghaffarina\\appdata\\local\\programs\\python\\python39\\lib\\site-packages (from packaging->ipykernel>=4.5.1->ipywidgets) (3.0.9)\n",
      "Requirement already satisfied: executing in c:\\users\\ghaffarina\\appdata\\local\\programs\\python\\python39\\lib\\site-packages (from stack-data->ipython>=6.1.0->ipywidgets) (1.1.0)\n",
      "Requirement already satisfied: pure-eval in c:\\users\\ghaffarina\\appdata\\local\\programs\\python\\python39\\lib\\site-packages (from stack-data->ipython>=6.1.0->ipywidgets) (0.2.2)\n",
      "Requirement already satisfied: asttokens in c:\\users\\ghaffarina\\appdata\\local\\programs\\python\\python39\\lib\\site-packages (from stack-data->ipython>=6.1.0->ipywidgets) (2.0.8)\n",
      "Requirement already satisfied: pywin32>=1.0 in c:\\users\\ghaffarina\\appdata\\local\\programs\\python\\python39\\lib\\site-packages (from jupyter-core>=4.9.2->jupyter-client>=6.1.12->ipykernel>=4.5.1->ipywidgets) (304)\n",
      "Requirement already satisfied: six>=1.5 in c:\\users\\ghaffarina\\appdata\\local\\programs\\python\\python39\\lib\\site-packages (from python-dateutil>=2.8.2->jupyter-client>=6.1.12->ipykernel>=4.5.1->ipywidgets) (1.16.0)\n"
     ]
    },
    {
     "name": "stderr",
     "output_type": "stream",
     "text": [
      "Installing C:\\Users\\Ghaffarina\\Anaconda3\\lib\\site-packages\\fileupload\\static -> fileupload\n",
      "Up to date: C:\\Users\\Ghaffarina\\AppData\\Roaming\\jupyter\\nbextensions\\fileupload\\extension.js\n",
      "Up to date: C:\\Users\\Ghaffarina\\AppData\\Roaming\\jupyter\\nbextensions\\fileupload\\widget.js\n",
      "Up to date: C:\\Users\\Ghaffarina\\AppData\\Roaming\\jupyter\\nbextensions\\fileupload\\fileupload\\widget.js\n",
      "- Validating: ok\n",
      "\n",
      "    To initialize this nbextension in the browser every time the notebook (or other app) loads:\n",
      "    \n",
      "          jupyter nbextension enable fileupload --user --py\n",
      "    \n",
      "Enabling notebook extension fileupload/extension...\n",
      "      - Validating: ok\n"
     ]
    }
   ],
   "source": [
    "!py -m pip install wordcloud\n",
    "!py -m pip install fileupload\n",
    "!py -m pip install ipywidgets\n",
    "!py -m jupyter nbextension install --py --user fileupload\n",
    "!py -m jupyter nbextension enable --py fileupload\n",
    "\n",
    "import wordcloud\n",
    "import numpy as np\n",
    "from matplotlib import pyplot as plt\n",
    "from IPython.display import display\n",
    "import fileupload\n",
    "import io\n",
    "import sys"
   ]
  },
  {
   "cell_type": "code",
   "execution_count": 6,
   "id": "8fb272e0",
   "metadata": {},
   "outputs": [
    {
     "data": {
      "application/vnd.jupyter.widget-view+json": {
       "model_id": "6b33e6aba3b44b5cb6f3c431e1d88f28",
       "version_major": 2,
       "version_minor": 0
      },
      "text/plain": [
       "FileUploadWidget(label='Browse', _dom_classes=('widget_item', 'btn-group'))"
      ]
     },
     "metadata": {},
     "output_type": "display_data"
    },
    {
     "name": "stdout",
     "output_type": "stream",
     "text": [
      "Uploaded `Neues Textdokument (2).txt` (0.08 kB)\n"
     ]
    }
   ],
   "source": [
    "def _upload():\n",
    "\n",
    "    _upload_widget = fileupload.FileUploadWidget()\n",
    "\n",
    "    def _cb(change):\n",
    "        global file_contents\n",
    "        decoded = io.StringIO(change['owner'].data.decode('utf-8'))\n",
    "        filename = change['owner'].filename\n",
    "        print('Uploaded `{}` ({:.2f} kB)'.format(\n",
    "            filename, len(decoded.read()) / 2 **10))\n",
    "        file_contents = decoded.getvalue()\n",
    "\n",
    "    _upload_widget.observe(_cb, names='data')\n",
    "    display(_upload_widget)\n",
    "\n",
    "_upload()"
   ]
  },
  {
   "cell_type": "code",
   "execution_count": 7,
   "id": "778721f5",
   "metadata": {},
   "outputs": [],
   "source": [
    "def calculate_frequencies(file_contents):\n",
    "    # Here is a list of punctuations and uninteresting words you can use to process your text\n",
    "    punctuations = '''!()-[]{};:'\"\\,<>./?@#$%^&*_~'''\n",
    "    uninteresting_words = [\"the\", \"a\", \"to\", \"if\", \"is\", \"it\", \"of\", \"and\", \"or\", \"an\", \"as\", \"i\", \"me\", \"my\", \\\n",
    "    \"we\", \"our\", \"ours\", \"you\", \"your\", \"yours\", \"he\", \"she\", \"him\", \"his\", \"her\", \"hers\", \"its\", \"they\", \"them\", \\\n",
    "    \"their\", \"what\", \"which\", \"who\", \"whom\", \"this\", \"that\", \"am\", \"are\", \"was\", \"were\", \"be\", \"been\", \"being\", \\\n",
    "    \"have\", \"has\", \"had\", \"do\", \"does\", \"did\", \"but\", \"at\", \"by\", \"with\", \"from\", \"here\", \"when\", \"where\", \"how\", \\\n",
    "    \"all\", \"any\", \"both\", \"each\", \"few\", \"more\", \"some\", \"such\", \"no\", \"nor\", \"too\", \"very\", \"can\", \"will\", \"just\"]\n",
    "    \n",
    "    # LEARNER CODE START HERE\n",
    "    my_dict = {}\n",
    "    file_punct = file_contents.split()\n",
    "   \n",
    "    #split & check for punctuation\n",
    "\n",
    "    for i, x in enumerate (file_punct):\n",
    "        for y in punctuations:\n",
    "            if x.find(y) != -1 :\n",
    "                file_punct[i] = x.replace(y, '')\n",
    "        \n",
    "    file_alpha = []\n",
    "    \n",
    "    for z in file_punct:\n",
    "        if z.isalpha():\n",
    "            file_alpha.append(z.lower())\n",
    "            \n",
    "    for w in file_alpha:\n",
    "        if w not in uninteresting_words:\n",
    "            if w not in my_dict.keys():\n",
    "                my_dict[w] = 1\n",
    "            else:\n",
    "                t = my_dict[w]\n",
    "                t += 1\n",
    "                my_dict[w] = t\n",
    "                \n",
    "    \n",
    "    cloud = wordcloud.WordCloud()\n",
    "    cloud.generate_from_frequencies(my_dict)\n",
    "    return cloud.to_array()"
   ]
  },
  {
   "cell_type": "code",
   "execution_count": null,
   "id": "4ef4030e",
   "metadata": {},
   "outputs": [],
   "source": []
  },
  {
   "cell_type": "code",
   "execution_count": 8,
   "id": "3290f429",
   "metadata": {},
   "outputs": [
    {
     "data": {
      "image/png": "[encoded data removed]",
      "text/plain": [
       "<Figure size 432x288 with 1 Axes>"
      ]
     },
     "metadata": {
      "needs_background": "light"
     },
     "output_type": "display_data"
    }
   ],
   "source": [
    "myimage = calculate_frequencies(file_contents)\n",
    "plt.imshow(myimage, interpolation = 'nearest')\n",
    "plt.axis('off')\n",
    "plt.show()"
   ]
  },
  {
   "cell_type": "code",
   "execution_count": null,
   "id": "c8aacf7e",
   "metadata": {},
   "outputs": [],
   "source": []
  },
  {
   "cell_type": "code",
   "execution_count": null,
   "id": "15aff0ef",
   "metadata": {},
   "outputs": [],
   "source": []
  },
  {
   "cell_type": "code",
   "execution_count": 48,
   "id": "6f2dd021",
   "metadata": {},
   "outputs": [],
   "source": []
  },
  {
   "cell_type": "code",
   "execution_count": 49,
   "id": "80ffded6",
   "metadata": {},
   "outputs": [],
   "source": []
  },
  {
   "cell_type": "code",
   "execution_count": null,
   "id": "4dc72f8d",
   "metadata": {},
   "outputs": [],
   "source": []
  },
  {
   "cell_type": "code",
   "execution_count": null,
   "id": "078bfb5a",
   "metadata": {},
   "outputs": [],
   "source": [
    "\n"
   ]
  },
  {
   "cell_type": "code",
   "execution_count": null,
   "id": "16d746b2",
   "metadata": {},
   "outputs": [],
   "source": []
  }
 ],
 "metadata": {
  "kernelspec": {
   "display_name": "Python 3 (ipykernel)",
   "language": "python",
   "name": "python3"
  },
  "language_info": {
   "codemirror_mode": {
    "name": "ipython",
    "version": 3
   },
   "file_extension": ".py",
   "mimetype": "text/x-python",
   "name": "python",
   "nbconvert_exporter": "python",
   "pygments_lexer": "ipython3",
   "version": "3.9.12"
  }
 },
 "nbformat": 4,
 "nbformat_minor": 5
}
